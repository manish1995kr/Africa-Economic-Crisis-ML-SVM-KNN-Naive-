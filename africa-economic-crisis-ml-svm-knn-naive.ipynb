{
 "cells": [
  {
   "cell_type": "code",
   "execution_count": 1,
   "id": "4e325445",
   "metadata": {
    "_cell_guid": "b1076dfc-b9ad-4769-8c92-a6c4dae69d19",
    "_uuid": "8f2839f25d086af736a60e9eeb907d3b93b6e0e5",
    "execution": {
     "iopub.execute_input": "2023-02-19T14:37:28.299131Z",
     "iopub.status.busy": "2023-02-19T14:37:28.298492Z",
     "iopub.status.idle": "2023-02-19T14:37:28.322074Z",
     "shell.execute_reply": "2023-02-19T14:37:28.318671Z"
    },
    "papermill": {
     "duration": 0.04625,
     "end_time": "2023-02-19T14:37:28.324390",
     "exception": false,
     "start_time": "2023-02-19T14:37:28.278140",
     "status": "completed"
    },
    "tags": []
   },
   "outputs": [
    {
     "name": "stdout",
     "output_type": "stream",
     "text": [
      "/kaggle/input/africa-economic-banking-and-systemic-crisis-data/african_crises.csv\n"
     ]
    }
   ],
   "source": [
    "# This Python 3 environment comes with many helpful analytics libraries installed\n",
    "# It is defined by the kaggle/python Docker image: https://github.com/kaggle/docker-python\n",
    "# For example, here's several helpful packages to load\n",
    "\n",
    "import numpy as np # linear algebra\n",
    "import pandas as pd # data processing, CSV file I/O (e.g. pd.read_csv)\n",
    "\n",
    "# Input data files are available in the read-only \"../input/\" directory\n",
    "# For example, running this (by clicking run or pressing Shift+Enter) will list all files under the input directory\n",
    "\n",
    "import os\n",
    "for dirname, _, filenames in os.walk('/kaggle/input'):\n",
    "    for filename in filenames:\n",
    "        print(os.path.join(dirname, filename))\n",
    "\n",
    "# You can write up to 20GB to the current directory (/kaggle/working/) that gets preserved as output when you create a version using \"Save & Run All\" \n",
    "# You can also write temporary files to /kaggle/temp/, but they won't be saved outside of the current session"
   ]
  },
  {
   "cell_type": "code",
   "execution_count": 2,
   "id": "6b69be25",
   "metadata": {
    "execution": {
     "iopub.execute_input": "2023-02-19T14:37:28.358871Z",
     "iopub.status.busy": "2023-02-19T14:37:28.358434Z",
     "iopub.status.idle": "2023-02-19T14:37:28.408982Z",
     "shell.execute_reply": "2023-02-19T14:37:28.408177Z"
    },
    "papermill": {
     "duration": 0.069749,
     "end_time": "2023-02-19T14:37:28.410469",
     "exception": false,
     "start_time": "2023-02-19T14:37:28.340720",
     "status": "completed"
    },
    "tags": []
   },
   "outputs": [
    {
     "data": {
      "text/html": [
       "<div>\n",
       "<style scoped>\n",
       "    .dataframe tbody tr th:only-of-type {\n",
       "        vertical-align: middle;\n",
       "    }\n",
       "\n",
       "    .dataframe tbody tr th {\n",
       "        vertical-align: top;\n",
       "    }\n",
       "\n",
       "    .dataframe thead th {\n",
       "        text-align: right;\n",
       "    }\n",
       "</style>\n",
       "<table border=\"1\" class=\"dataframe\">\n",
       "  <thead>\n",
       "    <tr style=\"text-align: right;\">\n",
       "      <th></th>\n",
       "      <th>case</th>\n",
       "      <th>cc3</th>\n",
       "      <th>country</th>\n",
       "      <th>year</th>\n",
       "      <th>systemic_crisis</th>\n",
       "      <th>exch_usd</th>\n",
       "      <th>domestic_debt_in_default</th>\n",
       "      <th>sovereign_external_debt_default</th>\n",
       "      <th>gdp_weighted_default</th>\n",
       "      <th>inflation_annual_cpi</th>\n",
       "      <th>independence</th>\n",
       "      <th>currency_crises</th>\n",
       "      <th>inflation_crises</th>\n",
       "      <th>banking_crisis</th>\n",
       "    </tr>\n",
       "  </thead>\n",
       "  <tbody>\n",
       "    <tr>\n",
       "      <th>0</th>\n",
       "      <td>1</td>\n",
       "      <td>DZA</td>\n",
       "      <td>Algeria</td>\n",
       "      <td>1870</td>\n",
       "      <td>1</td>\n",
       "      <td>0.052264</td>\n",
       "      <td>0</td>\n",
       "      <td>0</td>\n",
       "      <td>0.0</td>\n",
       "      <td>3.441456</td>\n",
       "      <td>0</td>\n",
       "      <td>0</td>\n",
       "      <td>0</td>\n",
       "      <td>crisis</td>\n",
       "    </tr>\n",
       "    <tr>\n",
       "      <th>1</th>\n",
       "      <td>1</td>\n",
       "      <td>DZA</td>\n",
       "      <td>Algeria</td>\n",
       "      <td>1871</td>\n",
       "      <td>0</td>\n",
       "      <td>0.052798</td>\n",
       "      <td>0</td>\n",
       "      <td>0</td>\n",
       "      <td>0.0</td>\n",
       "      <td>14.149140</td>\n",
       "      <td>0</td>\n",
       "      <td>0</td>\n",
       "      <td>0</td>\n",
       "      <td>no_crisis</td>\n",
       "    </tr>\n",
       "    <tr>\n",
       "      <th>2</th>\n",
       "      <td>1</td>\n",
       "      <td>DZA</td>\n",
       "      <td>Algeria</td>\n",
       "      <td>1872</td>\n",
       "      <td>0</td>\n",
       "      <td>0.052274</td>\n",
       "      <td>0</td>\n",
       "      <td>0</td>\n",
       "      <td>0.0</td>\n",
       "      <td>-3.718593</td>\n",
       "      <td>0</td>\n",
       "      <td>0</td>\n",
       "      <td>0</td>\n",
       "      <td>no_crisis</td>\n",
       "    </tr>\n",
       "    <tr>\n",
       "      <th>3</th>\n",
       "      <td>1</td>\n",
       "      <td>DZA</td>\n",
       "      <td>Algeria</td>\n",
       "      <td>1873</td>\n",
       "      <td>0</td>\n",
       "      <td>0.051680</td>\n",
       "      <td>0</td>\n",
       "      <td>0</td>\n",
       "      <td>0.0</td>\n",
       "      <td>11.203897</td>\n",
       "      <td>0</td>\n",
       "      <td>0</td>\n",
       "      <td>0</td>\n",
       "      <td>no_crisis</td>\n",
       "    </tr>\n",
       "    <tr>\n",
       "      <th>4</th>\n",
       "      <td>1</td>\n",
       "      <td>DZA</td>\n",
       "      <td>Algeria</td>\n",
       "      <td>1874</td>\n",
       "      <td>0</td>\n",
       "      <td>0.051308</td>\n",
       "      <td>0</td>\n",
       "      <td>0</td>\n",
       "      <td>0.0</td>\n",
       "      <td>-3.848561</td>\n",
       "      <td>0</td>\n",
       "      <td>0</td>\n",
       "      <td>0</td>\n",
       "      <td>no_crisis</td>\n",
       "    </tr>\n",
       "    <tr>\n",
       "      <th>...</th>\n",
       "      <td>...</td>\n",
       "      <td>...</td>\n",
       "      <td>...</td>\n",
       "      <td>...</td>\n",
       "      <td>...</td>\n",
       "      <td>...</td>\n",
       "      <td>...</td>\n",
       "      <td>...</td>\n",
       "      <td>...</td>\n",
       "      <td>...</td>\n",
       "      <td>...</td>\n",
       "      <td>...</td>\n",
       "      <td>...</td>\n",
       "      <td>...</td>\n",
       "    </tr>\n",
       "    <tr>\n",
       "      <th>1054</th>\n",
       "      <td>70</td>\n",
       "      <td>ZWE</td>\n",
       "      <td>Zimbabwe</td>\n",
       "      <td>2009</td>\n",
       "      <td>1</td>\n",
       "      <td>354.800000</td>\n",
       "      <td>1</td>\n",
       "      <td>1</td>\n",
       "      <td>0.0</td>\n",
       "      <td>-7.670000</td>\n",
       "      <td>1</td>\n",
       "      <td>1</td>\n",
       "      <td>0</td>\n",
       "      <td>crisis</td>\n",
       "    </tr>\n",
       "    <tr>\n",
       "      <th>1055</th>\n",
       "      <td>70</td>\n",
       "      <td>ZWE</td>\n",
       "      <td>Zimbabwe</td>\n",
       "      <td>2010</td>\n",
       "      <td>0</td>\n",
       "      <td>378.200000</td>\n",
       "      <td>1</td>\n",
       "      <td>1</td>\n",
       "      <td>0.0</td>\n",
       "      <td>3.217000</td>\n",
       "      <td>1</td>\n",
       "      <td>0</td>\n",
       "      <td>0</td>\n",
       "      <td>no_crisis</td>\n",
       "    </tr>\n",
       "    <tr>\n",
       "      <th>1056</th>\n",
       "      <td>70</td>\n",
       "      <td>ZWE</td>\n",
       "      <td>Zimbabwe</td>\n",
       "      <td>2011</td>\n",
       "      <td>0</td>\n",
       "      <td>361.900000</td>\n",
       "      <td>1</td>\n",
       "      <td>1</td>\n",
       "      <td>0.0</td>\n",
       "      <td>4.920000</td>\n",
       "      <td>1</td>\n",
       "      <td>0</td>\n",
       "      <td>0</td>\n",
       "      <td>no_crisis</td>\n",
       "    </tr>\n",
       "    <tr>\n",
       "      <th>1057</th>\n",
       "      <td>70</td>\n",
       "      <td>ZWE</td>\n",
       "      <td>Zimbabwe</td>\n",
       "      <td>2012</td>\n",
       "      <td>0</td>\n",
       "      <td>361.900000</td>\n",
       "      <td>1</td>\n",
       "      <td>1</td>\n",
       "      <td>0.0</td>\n",
       "      <td>3.720000</td>\n",
       "      <td>1</td>\n",
       "      <td>0</td>\n",
       "      <td>0</td>\n",
       "      <td>no_crisis</td>\n",
       "    </tr>\n",
       "    <tr>\n",
       "      <th>1058</th>\n",
       "      <td>70</td>\n",
       "      <td>ZWE</td>\n",
       "      <td>Zimbabwe</td>\n",
       "      <td>2013</td>\n",
       "      <td>0</td>\n",
       "      <td>361.900000</td>\n",
       "      <td>1</td>\n",
       "      <td>1</td>\n",
       "      <td>0.0</td>\n",
       "      <td>1.632000</td>\n",
       "      <td>1</td>\n",
       "      <td>0</td>\n",
       "      <td>0</td>\n",
       "      <td>no_crisis</td>\n",
       "    </tr>\n",
       "  </tbody>\n",
       "</table>\n",
       "<p>1059 rows × 14 columns</p>\n",
       "</div>"
      ],
      "text/plain": [
       "      case  cc3   country  year  systemic_crisis    exch_usd  \\\n",
       "0        1  DZA   Algeria  1870                1    0.052264   \n",
       "1        1  DZA   Algeria  1871                0    0.052798   \n",
       "2        1  DZA   Algeria  1872                0    0.052274   \n",
       "3        1  DZA   Algeria  1873                0    0.051680   \n",
       "4        1  DZA   Algeria  1874                0    0.051308   \n",
       "...    ...  ...       ...   ...              ...         ...   \n",
       "1054    70  ZWE  Zimbabwe  2009                1  354.800000   \n",
       "1055    70  ZWE  Zimbabwe  2010                0  378.200000   \n",
       "1056    70  ZWE  Zimbabwe  2011                0  361.900000   \n",
       "1057    70  ZWE  Zimbabwe  2012                0  361.900000   \n",
       "1058    70  ZWE  Zimbabwe  2013                0  361.900000   \n",
       "\n",
       "      domestic_debt_in_default  sovereign_external_debt_default  \\\n",
       "0                            0                                0   \n",
       "1                            0                                0   \n",
       "2                            0                                0   \n",
       "3                            0                                0   \n",
       "4                            0                                0   \n",
       "...                        ...                              ...   \n",
       "1054                         1                                1   \n",
       "1055                         1                                1   \n",
       "1056                         1                                1   \n",
       "1057                         1                                1   \n",
       "1058                         1                                1   \n",
       "\n",
       "      gdp_weighted_default  inflation_annual_cpi  independence  \\\n",
       "0                      0.0              3.441456             0   \n",
       "1                      0.0             14.149140             0   \n",
       "2                      0.0             -3.718593             0   \n",
       "3                      0.0             11.203897             0   \n",
       "4                      0.0             -3.848561             0   \n",
       "...                    ...                   ...           ...   \n",
       "1054                   0.0             -7.670000             1   \n",
       "1055                   0.0              3.217000             1   \n",
       "1056                   0.0              4.920000             1   \n",
       "1057                   0.0              3.720000             1   \n",
       "1058                   0.0              1.632000             1   \n",
       "\n",
       "      currency_crises  inflation_crises banking_crisis  \n",
       "0                   0                 0         crisis  \n",
       "1                   0                 0      no_crisis  \n",
       "2                   0                 0      no_crisis  \n",
       "3                   0                 0      no_crisis  \n",
       "4                   0                 0      no_crisis  \n",
       "...               ...               ...            ...  \n",
       "1054                1                 0         crisis  \n",
       "1055                0                 0      no_crisis  \n",
       "1056                0                 0      no_crisis  \n",
       "1057                0                 0      no_crisis  \n",
       "1058                0                 0      no_crisis  \n",
       "\n",
       "[1059 rows x 14 columns]"
      ]
     },
     "execution_count": 2,
     "metadata": {},
     "output_type": "execute_result"
    }
   ],
   "source": [
    "df = pd.read_csv('/kaggle/input/africa-economic-banking-and-systemic-crisis-data/african_crises.csv')\n",
    "df"
   ]
  },
  {
   "cell_type": "code",
   "execution_count": 3,
   "id": "4becf2b1",
   "metadata": {
    "execution": {
     "iopub.execute_input": "2023-02-19T14:37:28.437714Z",
     "iopub.status.busy": "2023-02-19T14:37:28.436953Z",
     "iopub.status.idle": "2023-02-19T14:37:28.461783Z",
     "shell.execute_reply": "2023-02-19T14:37:28.461038Z"
    },
    "papermill": {
     "duration": 0.040072,
     "end_time": "2023-02-19T14:37:28.463691",
     "exception": false,
     "start_time": "2023-02-19T14:37:28.423619",
     "status": "completed"
    },
    "tags": []
   },
   "outputs": [
    {
     "name": "stdout",
     "output_type": "stream",
     "text": [
      "<class 'pandas.core.frame.DataFrame'>\n",
      "RangeIndex: 1059 entries, 0 to 1058\n",
      "Data columns (total 14 columns):\n",
      " #   Column                           Non-Null Count  Dtype  \n",
      "---  ------                           --------------  -----  \n",
      " 0   case                             1059 non-null   int64  \n",
      " 1   cc3                              1059 non-null   object \n",
      " 2   country                          1059 non-null   object \n",
      " 3   year                             1059 non-null   int64  \n",
      " 4   systemic_crisis                  1059 non-null   int64  \n",
      " 5   exch_usd                         1059 non-null   float64\n",
      " 6   domestic_debt_in_default         1059 non-null   int64  \n",
      " 7   sovereign_external_debt_default  1059 non-null   int64  \n",
      " 8   gdp_weighted_default             1059 non-null   float64\n",
      " 9   inflation_annual_cpi             1059 non-null   float64\n",
      " 10  independence                     1059 non-null   int64  \n",
      " 11  currency_crises                  1059 non-null   int64  \n",
      " 12  inflation_crises                 1059 non-null   int64  \n",
      " 13  banking_crisis                   1059 non-null   object \n",
      "dtypes: float64(3), int64(8), object(3)\n",
      "memory usage: 116.0+ KB\n"
     ]
    }
   ],
   "source": [
    "df.info()"
   ]
  },
  {
   "cell_type": "code",
   "execution_count": 4,
   "id": "50cd4767",
   "metadata": {
    "execution": {
     "iopub.execute_input": "2023-02-19T14:37:28.494847Z",
     "iopub.status.busy": "2023-02-19T14:37:28.493973Z",
     "iopub.status.idle": "2023-02-19T14:37:28.500557Z",
     "shell.execute_reply": "2023-02-19T14:37:28.499911Z"
    },
    "papermill": {
     "duration": 0.022741,
     "end_time": "2023-02-19T14:37:28.502225",
     "exception": false,
     "start_time": "2023-02-19T14:37:28.479484",
     "status": "completed"
    },
    "tags": []
   },
   "outputs": [
    {
     "data": {
      "text/plain": [
       "(1059, 14)"
      ]
     },
     "execution_count": 4,
     "metadata": {},
     "output_type": "execute_result"
    }
   ],
   "source": [
    "df.shape"
   ]
  },
  {
   "cell_type": "code",
   "execution_count": 5,
   "id": "4f52b788",
   "metadata": {
    "execution": {
     "iopub.execute_input": "2023-02-19T14:37:28.528789Z",
     "iopub.status.busy": "2023-02-19T14:37:28.528277Z",
     "iopub.status.idle": "2023-02-19T14:37:28.536512Z",
     "shell.execute_reply": "2023-02-19T14:37:28.535064Z"
    },
    "papermill": {
     "duration": 0.024174,
     "end_time": "2023-02-19T14:37:28.538748",
     "exception": false,
     "start_time": "2023-02-19T14:37:28.514574",
     "status": "completed"
    },
    "tags": []
   },
   "outputs": [
    {
     "data": {
      "text/plain": [
       "0    977\n",
       "1     82\n",
       "Name: systemic_crisis, dtype: int64"
      ]
     },
     "execution_count": 5,
     "metadata": {},
     "output_type": "execute_result"
    }
   ],
   "source": [
    "df['systemic_crisis'].value_counts()"
   ]
  },
  {
   "cell_type": "code",
   "execution_count": 6,
   "id": "dd4d5903",
   "metadata": {
    "execution": {
     "iopub.execute_input": "2023-02-19T14:37:28.569579Z",
     "iopub.status.busy": "2023-02-19T14:37:28.568956Z",
     "iopub.status.idle": "2023-02-19T14:37:28.577144Z",
     "shell.execute_reply": "2023-02-19T14:37:28.576329Z"
    },
    "papermill": {
     "duration": 0.024907,
     "end_time": "2023-02-19T14:37:28.578904",
     "exception": false,
     "start_time": "2023-02-19T14:37:28.553997",
     "status": "completed"
    },
    "tags": []
   },
   "outputs": [
    {
     "data": {
      "text/plain": [
       "case                               0\n",
       "cc3                                0\n",
       "country                            0\n",
       "year                               0\n",
       "systemic_crisis                    0\n",
       "exch_usd                           0\n",
       "domestic_debt_in_default           0\n",
       "sovereign_external_debt_default    0\n",
       "gdp_weighted_default               0\n",
       "inflation_annual_cpi               0\n",
       "independence                       0\n",
       "currency_crises                    0\n",
       "inflation_crises                   0\n",
       "banking_crisis                     0\n",
       "dtype: int64"
      ]
     },
     "execution_count": 6,
     "metadata": {},
     "output_type": "execute_result"
    }
   ],
   "source": [
    "df.isna().sum()"
   ]
  },
  {
   "cell_type": "code",
   "execution_count": 7,
   "id": "c42e8867",
   "metadata": {
    "execution": {
     "iopub.execute_input": "2023-02-19T14:37:28.606298Z",
     "iopub.status.busy": "2023-02-19T14:37:28.605691Z",
     "iopub.status.idle": "2023-02-19T14:37:28.617925Z",
     "shell.execute_reply": "2023-02-19T14:37:28.617055Z"
    },
    "papermill": {
     "duration": 0.027687,
     "end_time": "2023-02-19T14:37:28.619623",
     "exception": false,
     "start_time": "2023-02-19T14:37:28.591936",
     "status": "completed"
    },
    "tags": []
   },
   "outputs": [
    {
     "data": {
      "text/plain": [
       "case                                 13\n",
       "cc3                                  13\n",
       "country                              13\n",
       "year                                155\n",
       "systemic_crisis                       2\n",
       "exch_usd                            772\n",
       "domestic_debt_in_default              2\n",
       "sovereign_external_debt_default       2\n",
       "gdp_weighted_default                  6\n",
       "inflation_annual_cpi               1022\n",
       "independence                          2\n",
       "currency_crises                       3\n",
       "inflation_crises                      2\n",
       "banking_crisis                        2\n",
       "dtype: int64"
      ]
     },
     "execution_count": 7,
     "metadata": {},
     "output_type": "execute_result"
    }
   ],
   "source": [
    "df.apply(lambda x:x.nunique())"
   ]
  },
  {
   "cell_type": "code",
   "execution_count": 8,
   "id": "16c6530a",
   "metadata": {
    "execution": {
     "iopub.execute_input": "2023-02-19T14:37:28.645996Z",
     "iopub.status.busy": "2023-02-19T14:37:28.645418Z",
     "iopub.status.idle": "2023-02-19T14:37:28.656073Z",
     "shell.execute_reply": "2023-02-19T14:37:28.655465Z"
    },
    "papermill": {
     "duration": 0.02577,
     "end_time": "2023-02-19T14:37:28.657694",
     "exception": false,
     "start_time": "2023-02-19T14:37:28.631924",
     "status": "completed"
    },
    "tags": []
   },
   "outputs": [
    {
     "data": {
      "text/plain": [
       "country                   systemic_crisis\n",
       "Algeria                   0                   81\n",
       "                          1                    4\n",
       "Angola                    0                   77\n",
       "Central African Republic  0                   39\n",
       "                          1                   19\n",
       "Egypt                     0                  149\n",
       "                          1                    6\n",
       "Ivory Coast               0                   59\n",
       "                          1                    4\n",
       "Kenya                     0                   54\n",
       "                          1                   13\n",
       "Mauritius                 0                   68\n",
       "Morocco                   0                   73\n",
       "                          1                    2\n",
       "Nigeria                   0                   50\n",
       "                          1                   10\n",
       "South Africa              0                  114\n",
       "Tunisia                   0                   70\n",
       "                          1                    5\n",
       "Zambia                    0                   68\n",
       "                          1                    4\n",
       "Zimbabwe                  0                   75\n",
       "                          1                   15\n",
       "Name: systemic_crisis, dtype: int64"
      ]
     },
     "execution_count": 8,
     "metadata": {},
     "output_type": "execute_result"
    }
   ],
   "source": [
    "df.groupby(['country'])['systemic_crisis'].value_counts()"
   ]
  },
  {
   "cell_type": "code",
   "execution_count": 9,
   "id": "64d25cd0",
   "metadata": {
    "execution": {
     "iopub.execute_input": "2023-02-19T14:37:28.683616Z",
     "iopub.status.busy": "2023-02-19T14:37:28.683096Z",
     "iopub.status.idle": "2023-02-19T14:37:28.689862Z",
     "shell.execute_reply": "2023-02-19T14:37:28.689292Z"
    },
    "papermill": {
     "duration": 0.021324,
     "end_time": "2023-02-19T14:37:28.691417",
     "exception": false,
     "start_time": "2023-02-19T14:37:28.670093",
     "status": "completed"
    },
    "tags": []
   },
   "outputs": [
    {
     "data": {
      "text/plain": [
       "country\n",
       "Algeria                      85\n",
       "Angola                       77\n",
       "Central African Republic     58\n",
       "Egypt                       155\n",
       "Ivory Coast                  63\n",
       "Kenya                        67\n",
       "Mauritius                    68\n",
       "Morocco                      75\n",
       "Nigeria                      60\n",
       "South Africa                114\n",
       "Tunisia                      75\n",
       "Zambia                       72\n",
       "Zimbabwe                     90\n",
       "Name: systemic_crisis, dtype: int64"
      ]
     },
     "execution_count": 9,
     "metadata": {},
     "output_type": "execute_result"
    }
   ],
   "source": [
    "df.groupby(['country'])['systemic_crisis'].count()"
   ]
  },
  {
   "cell_type": "code",
   "execution_count": 10,
   "id": "2c11574d",
   "metadata": {
    "execution": {
     "iopub.execute_input": "2023-02-19T14:37:28.718344Z",
     "iopub.status.busy": "2023-02-19T14:37:28.717826Z",
     "iopub.status.idle": "2023-02-19T14:37:28.751785Z",
     "shell.execute_reply": "2023-02-19T14:37:28.750955Z"
    },
    "papermill": {
     "duration": 0.049606,
     "end_time": "2023-02-19T14:37:28.753545",
     "exception": false,
     "start_time": "2023-02-19T14:37:28.703939",
     "status": "completed"
    },
    "tags": []
   },
   "outputs": [
    {
     "data": {
      "text/html": [
       "<div>\n",
       "<style scoped>\n",
       "    .dataframe tbody tr th:only-of-type {\n",
       "        vertical-align: middle;\n",
       "    }\n",
       "\n",
       "    .dataframe tbody tr th {\n",
       "        vertical-align: top;\n",
       "    }\n",
       "\n",
       "    .dataframe thead th {\n",
       "        text-align: right;\n",
       "    }\n",
       "</style>\n",
       "<table border=\"1\" class=\"dataframe\">\n",
       "  <thead>\n",
       "    <tr style=\"text-align: right;\">\n",
       "      <th></th>\n",
       "      <th>count</th>\n",
       "      <th>mean</th>\n",
       "      <th>std</th>\n",
       "      <th>min</th>\n",
       "      <th>25%</th>\n",
       "      <th>50%</th>\n",
       "      <th>75%</th>\n",
       "      <th>max</th>\n",
       "    </tr>\n",
       "  </thead>\n",
       "  <tbody>\n",
       "    <tr>\n",
       "      <th>case</th>\n",
       "      <td>1059.0</td>\n",
       "      <td>35.613787</td>\n",
       "      <td>23.692402</td>\n",
       "      <td>1.000000</td>\n",
       "      <td>15.000000</td>\n",
       "      <td>38.00000</td>\n",
       "      <td>56.000000</td>\n",
       "      <td>7.000000e+01</td>\n",
       "    </tr>\n",
       "    <tr>\n",
       "      <th>year</th>\n",
       "      <td>1059.0</td>\n",
       "      <td>1967.767705</td>\n",
       "      <td>33.530632</td>\n",
       "      <td>1860.000000</td>\n",
       "      <td>1951.000000</td>\n",
       "      <td>1973.00000</td>\n",
       "      <td>1994.000000</td>\n",
       "      <td>2.014000e+03</td>\n",
       "    </tr>\n",
       "    <tr>\n",
       "      <th>systemic_crisis</th>\n",
       "      <td>1059.0</td>\n",
       "      <td>0.077432</td>\n",
       "      <td>0.267401</td>\n",
       "      <td>0.000000</td>\n",
       "      <td>0.000000</td>\n",
       "      <td>0.00000</td>\n",
       "      <td>0.000000</td>\n",
       "      <td>1.000000e+00</td>\n",
       "    </tr>\n",
       "    <tr>\n",
       "      <th>exch_usd</th>\n",
       "      <td>1059.0</td>\n",
       "      <td>43.140831</td>\n",
       "      <td>111.475380</td>\n",
       "      <td>0.000000</td>\n",
       "      <td>0.195350</td>\n",
       "      <td>0.86840</td>\n",
       "      <td>8.462750</td>\n",
       "      <td>7.443061e+02</td>\n",
       "    </tr>\n",
       "    <tr>\n",
       "      <th>domestic_debt_in_default</th>\n",
       "      <td>1059.0</td>\n",
       "      <td>0.039660</td>\n",
       "      <td>0.195251</td>\n",
       "      <td>0.000000</td>\n",
       "      <td>0.000000</td>\n",
       "      <td>0.00000</td>\n",
       "      <td>0.000000</td>\n",
       "      <td>1.000000e+00</td>\n",
       "    </tr>\n",
       "    <tr>\n",
       "      <th>sovereign_external_debt_default</th>\n",
       "      <td>1059.0</td>\n",
       "      <td>0.152975</td>\n",
       "      <td>0.360133</td>\n",
       "      <td>0.000000</td>\n",
       "      <td>0.000000</td>\n",
       "      <td>0.00000</td>\n",
       "      <td>0.000000</td>\n",
       "      <td>1.000000e+00</td>\n",
       "    </tr>\n",
       "    <tr>\n",
       "      <th>gdp_weighted_default</th>\n",
       "      <td>1059.0</td>\n",
       "      <td>0.006402</td>\n",
       "      <td>0.043572</td>\n",
       "      <td>0.000000</td>\n",
       "      <td>0.000000</td>\n",
       "      <td>0.00000</td>\n",
       "      <td>0.000000</td>\n",
       "      <td>4.000000e-01</td>\n",
       "    </tr>\n",
       "    <tr>\n",
       "      <th>inflation_annual_cpi</th>\n",
       "      <td>1059.0</td>\n",
       "      <td>20848.892444</td>\n",
       "      <td>675727.429176</td>\n",
       "      <td>-28.502137</td>\n",
       "      <td>2.086162</td>\n",
       "      <td>5.76233</td>\n",
       "      <td>11.644048</td>\n",
       "      <td>2.198970e+07</td>\n",
       "    </tr>\n",
       "    <tr>\n",
       "      <th>independence</th>\n",
       "      <td>1059.0</td>\n",
       "      <td>0.776204</td>\n",
       "      <td>0.416984</td>\n",
       "      <td>0.000000</td>\n",
       "      <td>1.000000</td>\n",
       "      <td>1.00000</td>\n",
       "      <td>1.000000</td>\n",
       "      <td>1.000000e+00</td>\n",
       "    </tr>\n",
       "    <tr>\n",
       "      <th>currency_crises</th>\n",
       "      <td>1059.0</td>\n",
       "      <td>0.132200</td>\n",
       "      <td>0.349847</td>\n",
       "      <td>0.000000</td>\n",
       "      <td>0.000000</td>\n",
       "      <td>0.00000</td>\n",
       "      <td>0.000000</td>\n",
       "      <td>2.000000e+00</td>\n",
       "    </tr>\n",
       "    <tr>\n",
       "      <th>inflation_crises</th>\n",
       "      <td>1059.0</td>\n",
       "      <td>0.129367</td>\n",
       "      <td>0.335765</td>\n",
       "      <td>0.000000</td>\n",
       "      <td>0.000000</td>\n",
       "      <td>0.00000</td>\n",
       "      <td>0.000000</td>\n",
       "      <td>1.000000e+00</td>\n",
       "    </tr>\n",
       "  </tbody>\n",
       "</table>\n",
       "</div>"
      ],
      "text/plain": [
       "                                  count          mean            std  \\\n",
       "case                             1059.0     35.613787      23.692402   \n",
       "year                             1059.0   1967.767705      33.530632   \n",
       "systemic_crisis                  1059.0      0.077432       0.267401   \n",
       "exch_usd                         1059.0     43.140831     111.475380   \n",
       "domestic_debt_in_default         1059.0      0.039660       0.195251   \n",
       "sovereign_external_debt_default  1059.0      0.152975       0.360133   \n",
       "gdp_weighted_default             1059.0      0.006402       0.043572   \n",
       "inflation_annual_cpi             1059.0  20848.892444  675727.429176   \n",
       "independence                     1059.0      0.776204       0.416984   \n",
       "currency_crises                  1059.0      0.132200       0.349847   \n",
       "inflation_crises                 1059.0      0.129367       0.335765   \n",
       "\n",
       "                                         min          25%         50%  \\\n",
       "case                                1.000000    15.000000    38.00000   \n",
       "year                             1860.000000  1951.000000  1973.00000   \n",
       "systemic_crisis                     0.000000     0.000000     0.00000   \n",
       "exch_usd                            0.000000     0.195350     0.86840   \n",
       "domestic_debt_in_default            0.000000     0.000000     0.00000   \n",
       "sovereign_external_debt_default     0.000000     0.000000     0.00000   \n",
       "gdp_weighted_default                0.000000     0.000000     0.00000   \n",
       "inflation_annual_cpi              -28.502137     2.086162     5.76233   \n",
       "independence                        0.000000     1.000000     1.00000   \n",
       "currency_crises                     0.000000     0.000000     0.00000   \n",
       "inflation_crises                    0.000000     0.000000     0.00000   \n",
       "\n",
       "                                         75%           max  \n",
       "case                               56.000000  7.000000e+01  \n",
       "year                             1994.000000  2.014000e+03  \n",
       "systemic_crisis                     0.000000  1.000000e+00  \n",
       "exch_usd                            8.462750  7.443061e+02  \n",
       "domestic_debt_in_default            0.000000  1.000000e+00  \n",
       "sovereign_external_debt_default     0.000000  1.000000e+00  \n",
       "gdp_weighted_default                0.000000  4.000000e-01  \n",
       "inflation_annual_cpi               11.644048  2.198970e+07  \n",
       "independence                        1.000000  1.000000e+00  \n",
       "currency_crises                     0.000000  2.000000e+00  \n",
       "inflation_crises                    0.000000  1.000000e+00  "
      ]
     },
     "execution_count": 10,
     "metadata": {},
     "output_type": "execute_result"
    }
   ],
   "source": [
    "df.describe().T"
   ]
  },
  {
   "cell_type": "code",
   "execution_count": 11,
   "id": "4a0414a7",
   "metadata": {
    "execution": {
     "iopub.execute_input": "2023-02-19T14:37:28.780674Z",
     "iopub.status.busy": "2023-02-19T14:37:28.780151Z",
     "iopub.status.idle": "2023-02-19T14:37:28.786329Z",
     "shell.execute_reply": "2023-02-19T14:37:28.785764Z"
    },
    "papermill": {
     "duration": 0.02154,
     "end_time": "2023-02-19T14:37:28.787920",
     "exception": false,
     "start_time": "2023-02-19T14:37:28.766380",
     "status": "completed"
    },
    "tags": []
   },
   "outputs": [
    {
     "data": {
      "text/plain": [
       "1    822\n",
       "0    237\n",
       "Name: independence, dtype: int64"
      ]
     },
     "execution_count": 11,
     "metadata": {},
     "output_type": "execute_result"
    }
   ],
   "source": [
    "df['independence'].value_counts()"
   ]
  },
  {
   "cell_type": "code",
   "execution_count": 12,
   "id": "0269cd8d",
   "metadata": {
    "execution": {
     "iopub.execute_input": "2023-02-19T14:37:28.816100Z",
     "iopub.status.busy": "2023-02-19T14:37:28.815523Z",
     "iopub.status.idle": "2023-02-19T14:37:28.821299Z",
     "shell.execute_reply": "2023-02-19T14:37:28.820686Z"
    },
    "papermill": {
     "duration": 0.021447,
     "end_time": "2023-02-19T14:37:28.822889",
     "exception": false,
     "start_time": "2023-02-19T14:37:28.801442",
     "status": "completed"
    },
    "tags": []
   },
   "outputs": [
    {
     "data": {
      "text/plain": [
       "array([1870, 1871, 1872, 1873, 1874, 1875, 1876, 1877, 1878, 1879, 1880,\n",
       "       1881, 1882, 1883, 1884, 1939, 1940, 1941, 1942, 1943, 1944, 1945,\n",
       "       1946, 1947, 1948, 1949, 1950, 1951, 1952, 1953, 1954, 1955, 1956,\n",
       "       1957, 1958, 1959, 1960, 1961, 1968, 1969, 1970, 1971, 1972, 1973,\n",
       "       1974, 1975, 1976, 1977, 1978, 1979, 1980, 1981, 1982, 1983, 1984,\n",
       "       1985, 1986, 1987, 1988, 1989, 1990, 1991, 1992, 1993, 1994, 1995,\n",
       "       1996, 1997, 1998, 1999, 2000, 2001, 2002, 2003, 2004, 2005, 2006,\n",
       "       2007, 2008, 2009, 2010, 2011, 2012, 2013, 2014, 1921, 1922, 1923,\n",
       "       1924, 1925, 1926, 1927, 1928, 1929, 1930, 1931, 1932, 1933, 1934,\n",
       "       1935, 1936, 1937, 1938, 1962, 1963, 1964, 1965, 1966, 1967, 1860,\n",
       "       1861, 1862, 1863, 1864, 1865, 1866, 1867, 1868, 1869, 1885, 1886,\n",
       "       1887, 1888, 1889, 1890, 1891, 1892, 1893, 1894, 1895, 1896, 1897,\n",
       "       1898, 1899, 1900, 1901, 1902, 1903, 1904, 1905, 1906, 1907, 1908,\n",
       "       1909, 1910, 1911, 1912, 1913, 1914, 1915, 1916, 1917, 1918, 1919,\n",
       "       1920])"
      ]
     },
     "execution_count": 12,
     "metadata": {},
     "output_type": "execute_result"
    }
   ],
   "source": [
    "df['year'].unique()"
   ]
  },
  {
   "cell_type": "code",
   "execution_count": 13,
   "id": "f36ff6c6",
   "metadata": {
    "execution": {
     "iopub.execute_input": "2023-02-19T14:37:28.850184Z",
     "iopub.status.busy": "2023-02-19T14:37:28.849597Z",
     "iopub.status.idle": "2023-02-19T14:37:28.856242Z",
     "shell.execute_reply": "2023-02-19T14:37:28.855676Z"
    },
    "papermill": {
     "duration": 0.021914,
     "end_time": "2023-02-19T14:37:28.857780",
     "exception": false,
     "start_time": "2023-02-19T14:37:28.835866",
     "status": "completed"
    },
    "tags": []
   },
   "outputs": [
    {
     "data": {
      "text/plain": [
       "max    2014\n",
       "min    1860\n",
       "Name: year, dtype: int64"
      ]
     },
     "execution_count": 13,
     "metadata": {},
     "output_type": "execute_result"
    }
   ],
   "source": [
    "df['year'].agg(['max','min'])"
   ]
  },
  {
   "cell_type": "code",
   "execution_count": 14,
   "id": "4b16ea88",
   "metadata": {
    "execution": {
     "iopub.execute_input": "2023-02-19T14:37:28.885701Z",
     "iopub.status.busy": "2023-02-19T14:37:28.885156Z",
     "iopub.status.idle": "2023-02-19T14:37:28.891773Z",
     "shell.execute_reply": "2023-02-19T14:37:28.891176Z"
    },
    "papermill": {
     "duration": 0.022684,
     "end_time": "2023-02-19T14:37:28.893342",
     "exception": false,
     "start_time": "2023-02-19T14:37:28.870658",
     "status": "completed"
    },
    "tags": []
   },
   "outputs": [
    {
     "data": {
      "text/plain": [
       "Egypt                       155\n",
       "South Africa                114\n",
       "Zimbabwe                     90\n",
       "Algeria                      85\n",
       "Angola                       77\n",
       "Morocco                      75\n",
       "Tunisia                      75\n",
       "Zambia                       72\n",
       "Mauritius                    68\n",
       "Kenya                        67\n",
       "Ivory Coast                  63\n",
       "Nigeria                      60\n",
       "Central African Republic     58\n",
       "Name: country, dtype: int64"
      ]
     },
     "execution_count": 14,
     "metadata": {},
     "output_type": "execute_result"
    }
   ],
   "source": [
    "df['country'].value_counts()"
   ]
  },
  {
   "cell_type": "code",
   "execution_count": 15,
   "id": "66896db8",
   "metadata": {
    "execution": {
     "iopub.execute_input": "2023-02-19T14:37:28.921583Z",
     "iopub.status.busy": "2023-02-19T14:37:28.921059Z",
     "iopub.status.idle": "2023-02-19T14:37:28.929589Z",
     "shell.execute_reply": "2023-02-19T14:37:28.928653Z"
    },
    "papermill": {
     "duration": 0.024902,
     "end_time": "2023-02-19T14:37:28.931497",
     "exception": false,
     "start_time": "2023-02-19T14:37:28.906595",
     "status": "completed"
    },
    "tags": []
   },
   "outputs": [
    {
     "data": {
      "text/plain": [
       "38      1968\n",
       "39      1969\n",
       "40      1970\n",
       "41      1971\n",
       "42      1972\n",
       "        ... \n",
       "1054    2009\n",
       "1055    2010\n",
       "1056    2011\n",
       "1057    2012\n",
       "1058    2013\n",
       "Name: year, Length: 822, dtype: int64"
      ]
     },
     "execution_count": 15,
     "metadata": {},
     "output_type": "execute_result"
    }
   ],
   "source": [
    "df[df['independence']==1]['year']"
   ]
  },
  {
   "cell_type": "code",
   "execution_count": 16,
   "id": "6b66d3a6",
   "metadata": {
    "execution": {
     "iopub.execute_input": "2023-02-19T14:37:28.960199Z",
     "iopub.status.busy": "2023-02-19T14:37:28.959745Z",
     "iopub.status.idle": "2023-02-19T14:37:28.967254Z",
     "shell.execute_reply": "2023-02-19T14:37:28.966370Z"
    },
    "papermill": {
     "duration": 0.024003,
     "end_time": "2023-02-19T14:37:28.969146",
     "exception": false,
     "start_time": "2023-02-19T14:37:28.945143",
     "status": "completed"
    },
    "tags": []
   },
   "outputs": [
    {
     "data": {
      "text/plain": [
       "min    1860\n",
       "max    2014\n",
       "Name: year, dtype: int64"
      ]
     },
     "execution_count": 16,
     "metadata": {},
     "output_type": "execute_result"
    }
   ],
   "source": [
    "df[df['independence']==1]['year'].agg(['min','max'])"
   ]
  },
  {
   "cell_type": "code",
   "execution_count": 17,
   "id": "0c37805c",
   "metadata": {
    "execution": {
     "iopub.execute_input": "2023-02-19T14:37:29.000504Z",
     "iopub.status.busy": "2023-02-19T14:37:28.999280Z",
     "iopub.status.idle": "2023-02-19T14:37:29.006204Z",
     "shell.execute_reply": "2023-02-19T14:37:29.005459Z"
    },
    "papermill": {
     "duration": 0.024556,
     "end_time": "2023-02-19T14:37:29.008048",
     "exception": false,
     "start_time": "2023-02-19T14:37:28.983492",
     "status": "completed"
    },
    "tags": []
   },
   "outputs": [
    {
     "data": {
      "text/plain": [
       "array(['Algeria', 'Angola', 'Central African Republic', 'Ivory Coast',\n",
       "       'Egypt', 'Kenya', 'Mauritius', 'Morocco', 'Nigeria',\n",
       "       'South Africa', 'Tunisia', 'Zambia', 'Zimbabwe'], dtype=object)"
      ]
     },
     "execution_count": 17,
     "metadata": {},
     "output_type": "execute_result"
    }
   ],
   "source": [
    "df['country'].unique()"
   ]
  },
  {
   "cell_type": "code",
   "execution_count": 18,
   "id": "a73e1d9a",
   "metadata": {
    "execution": {
     "iopub.execute_input": "2023-02-19T14:37:29.039629Z",
     "iopub.status.busy": "2023-02-19T14:37:29.038478Z",
     "iopub.status.idle": "2023-02-19T14:37:29.045594Z",
     "shell.execute_reply": "2023-02-19T14:37:29.044535Z"
    },
    "papermill": {
     "duration": 0.025485,
     "end_time": "2023-02-19T14:37:29.048156",
     "exception": false,
     "start_time": "2023-02-19T14:37:29.022671",
     "status": "completed"
    },
    "tags": []
   },
   "outputs": [
    {
     "data": {
      "text/plain": [
       "array([ 1,  2, 10, 15, 19, 35, 38, 40, 45, 56, 63, 69, 70])"
      ]
     },
     "execution_count": 18,
     "metadata": {},
     "output_type": "execute_result"
    }
   ],
   "source": [
    "df['case'].unique()"
   ]
  },
  {
   "cell_type": "code",
   "execution_count": 19,
   "id": "950959fa",
   "metadata": {
    "execution": {
     "iopub.execute_input": "2023-02-19T14:37:29.079604Z",
     "iopub.status.busy": "2023-02-19T14:37:29.079223Z",
     "iopub.status.idle": "2023-02-19T14:37:29.085420Z",
     "shell.execute_reply": "2023-02-19T14:37:29.084527Z"
    },
    "papermill": {
     "duration": 0.024715,
     "end_time": "2023-02-19T14:37:29.087666",
     "exception": false,
     "start_time": "2023-02-19T14:37:29.062951",
     "status": "completed"
    },
    "tags": []
   },
   "outputs": [
    {
     "data": {
      "text/plain": [
       "13"
      ]
     },
     "execution_count": 19,
     "metadata": {},
     "output_type": "execute_result"
    }
   ],
   "source": [
    "df['country'].nunique()"
   ]
  },
  {
   "cell_type": "code",
   "execution_count": 20,
   "id": "574928ba",
   "metadata": {
    "execution": {
     "iopub.execute_input": "2023-02-19T14:37:29.118889Z",
     "iopub.status.busy": "2023-02-19T14:37:29.118373Z",
     "iopub.status.idle": "2023-02-19T14:37:29.123694Z",
     "shell.execute_reply": "2023-02-19T14:37:29.123111Z"
    },
    "papermill": {
     "duration": 0.02291,
     "end_time": "2023-02-19T14:37:29.125310",
     "exception": false,
     "start_time": "2023-02-19T14:37:29.102400",
     "status": "completed"
    },
    "tags": []
   },
   "outputs": [
    {
     "data": {
      "text/plain": [
       "13"
      ]
     },
     "execution_count": 20,
     "metadata": {},
     "output_type": "execute_result"
    }
   ],
   "source": [
    "df['case'].nunique()"
   ]
  },
  {
   "cell_type": "code",
   "execution_count": 21,
   "id": "e3231d6e",
   "metadata": {
    "execution": {
     "iopub.execute_input": "2023-02-19T14:37:29.154481Z",
     "iopub.status.busy": "2023-02-19T14:37:29.153660Z",
     "iopub.status.idle": "2023-02-19T14:37:29.164716Z",
     "shell.execute_reply": "2023-02-19T14:37:29.164071Z"
    },
    "papermill": {
     "duration": 0.028031,
     "end_time": "2023-02-19T14:37:29.166912",
     "exception": false,
     "start_time": "2023-02-19T14:37:29.138881",
     "status": "completed"
    },
    "tags": []
   },
   "outputs": [],
   "source": [
    "df[\"country\"].replace({'Algeria':0, 'Angola':1, 'Central African Republic':2, 'Ivory Coast':3,\n",
    "       'Egypt':4, 'Kenya':5, 'Mauritius':6, 'Morocco':7, 'Nigeria':8,'South Africa':9, 'Tunisia':10, 'Zambia':11, 'Zimbabwe':12},inplace = True)"
   ]
  },
  {
   "cell_type": "code",
   "execution_count": 22,
   "id": "b07a3b17",
   "metadata": {
    "execution": {
     "iopub.execute_input": "2023-02-19T14:37:29.196395Z",
     "iopub.status.busy": "2023-02-19T14:37:29.195973Z",
     "iopub.status.idle": "2023-02-19T14:37:29.201259Z",
     "shell.execute_reply": "2023-02-19T14:37:29.200666Z"
    },
    "papermill": {
     "duration": 0.02181,
     "end_time": "2023-02-19T14:37:29.202759",
     "exception": false,
     "start_time": "2023-02-19T14:37:29.180949",
     "status": "completed"
    },
    "tags": []
   },
   "outputs": [
    {
     "data": {
      "text/plain": [
       "array([ 0,  1,  2,  3,  4,  5,  6,  7,  8,  9, 10, 11, 12])"
      ]
     },
     "execution_count": 22,
     "metadata": {},
     "output_type": "execute_result"
    }
   ],
   "source": [
    "df['country'].unique()"
   ]
  },
  {
   "cell_type": "code",
   "execution_count": 23,
   "id": "65b014e5",
   "metadata": {
    "execution": {
     "iopub.execute_input": "2023-02-19T14:37:29.232092Z",
     "iopub.status.busy": "2023-02-19T14:37:29.231570Z",
     "iopub.status.idle": "2023-02-19T14:37:29.238380Z",
     "shell.execute_reply": "2023-02-19T14:37:29.236993Z"
    },
    "papermill": {
     "duration": 0.023909,
     "end_time": "2023-02-19T14:37:29.240711",
     "exception": false,
     "start_time": "2023-02-19T14:37:29.216802",
     "status": "completed"
    },
    "tags": []
   },
   "outputs": [],
   "source": [
    "df.drop(columns = ['case','year'],inplace =True)"
   ]
  },
  {
   "cell_type": "code",
   "execution_count": 24,
   "id": "04e867f9",
   "metadata": {
    "execution": {
     "iopub.execute_input": "2023-02-19T14:37:29.270718Z",
     "iopub.status.busy": "2023-02-19T14:37:29.270381Z",
     "iopub.status.idle": "2023-02-19T14:37:29.276331Z",
     "shell.execute_reply": "2023-02-19T14:37:29.275417Z"
    },
    "papermill": {
     "duration": 0.022871,
     "end_time": "2023-02-19T14:37:29.278112",
     "exception": false,
     "start_time": "2023-02-19T14:37:29.255241",
     "status": "completed"
    },
    "tags": []
   },
   "outputs": [
    {
     "data": {
      "text/plain": [
       "(1059, 12)"
      ]
     },
     "execution_count": 24,
     "metadata": {},
     "output_type": "execute_result"
    }
   ],
   "source": [
    "df.shape"
   ]
  },
  {
   "cell_type": "code",
   "execution_count": 25,
   "id": "43358e34",
   "metadata": {
    "execution": {
     "iopub.execute_input": "2023-02-19T14:37:29.309090Z",
     "iopub.status.busy": "2023-02-19T14:37:29.308614Z",
     "iopub.status.idle": "2023-02-19T14:37:30.452267Z",
     "shell.execute_reply": "2023-02-19T14:37:30.451425Z"
    },
    "papermill": {
     "duration": 1.162249,
     "end_time": "2023-02-19T14:37:30.454387",
     "exception": false,
     "start_time": "2023-02-19T14:37:29.292138",
     "status": "completed"
    },
    "tags": []
   },
   "outputs": [
    {
     "data": {
      "text/plain": [
       "{'whiskers': [<matplotlib.lines.Line2D at 0x7ff3b4ceadd0>,\n",
       "  <matplotlib.lines.Line2D at 0x7ff3b4d0f110>],\n",
       " 'caps': [<matplotlib.lines.Line2D at 0x7ff3b4d0f450>,\n",
       "  <matplotlib.lines.Line2D at 0x7ff3b4d0f790>],\n",
       " 'boxes': [<matplotlib.lines.Line2D at 0x7ff3b4cdd050>],\n",
       " 'medians': [<matplotlib.lines.Line2D at 0x7ff3b4d0fb10>],\n",
       " 'fliers': [<matplotlib.lines.Line2D at 0x7ff3b4d0fe50>],\n",
       " 'means': []}"
      ]
     },
     "execution_count": 25,
     "metadata": {},
     "output_type": "execute_result"
    },
    {
     "data": {
      "image/png": "[encoded data removed]",
      "text/plain": [
       "<Figure size 432x288 with 1 Axes>"
      ]
     },
     "metadata": {
      "needs_background": "light"
     },
     "output_type": "display_data"
    }
   ],
   "source": [
    "import seaborn as sns\n",
    "import matplotlib.pyplot as plt\n",
    "plt.boxplot(df['inflation_annual_cpi'])"
   ]
  },
  {
   "cell_type": "code",
   "execution_count": 26,
   "id": "de49ceac",
   "metadata": {
    "execution": {
     "iopub.execute_input": "2023-02-19T14:37:30.493622Z",
     "iopub.status.busy": "2023-02-19T14:37:30.492460Z",
     "iopub.status.idle": "2023-02-19T14:37:30.501214Z",
     "shell.execute_reply": "2023-02-19T14:37:30.500025Z"
    },
    "papermill": {
     "duration": 0.02943,
     "end_time": "2023-02-19T14:37:30.503204",
     "exception": false,
     "start_time": "2023-02-19T14:37:30.473774",
     "status": "completed"
    },
    "tags": []
   },
   "outputs": [
    {
     "data": {
      "text/plain": [
       "min   -2.850214e+01\n",
       "max    2.198970e+07\n",
       "Name: inflation_annual_cpi, dtype: float64"
      ]
     },
     "execution_count": 26,
     "metadata": {},
     "output_type": "execute_result"
    }
   ],
   "source": [
    "df['inflation_annual_cpi'].agg(['min','max'])"
   ]
  },
  {
   "cell_type": "code",
   "execution_count": 27,
   "id": "23860779",
   "metadata": {
    "execution": {
     "iopub.execute_input": "2023-02-19T14:37:30.535485Z",
     "iopub.status.busy": "2023-02-19T14:37:30.533610Z",
     "iopub.status.idle": "2023-02-19T14:37:30.705897Z",
     "shell.execute_reply": "2023-02-19T14:37:30.704964Z"
    },
    "papermill": {
     "duration": 0.190284,
     "end_time": "2023-02-19T14:37:30.708000",
     "exception": false,
     "start_time": "2023-02-19T14:37:30.517716",
     "status": "completed"
    },
    "tags": []
   },
   "outputs": [],
   "source": [
    "from sklearn.preprocessing import MinMaxScaler"
   ]
  },
  {
   "cell_type": "code",
   "execution_count": 28,
   "id": "a74052e8",
   "metadata": {
    "execution": {
     "iopub.execute_input": "2023-02-19T14:37:30.739241Z",
     "iopub.status.busy": "2023-02-19T14:37:30.738694Z",
     "iopub.status.idle": "2023-02-19T14:37:30.747636Z",
     "shell.execute_reply": "2023-02-19T14:37:30.746789Z"
    },
    "papermill": {
     "duration": 0.026831,
     "end_time": "2023-02-19T14:37:30.749423",
     "exception": false,
     "start_time": "2023-02-19T14:37:30.722592",
     "status": "completed"
    },
    "tags": []
   },
   "outputs": [
    {
     "data": {
      "text/plain": [
       "array([[1.45266002e-06],\n",
       "       [1.93960038e-06],\n",
       "       [1.12705117e-06],\n",
       "       ...,\n",
       "       [1.51989799e-06],\n",
       "       [1.46532704e-06],\n",
       "       [1.37037360e-06]])"
      ]
     },
     "execution_count": 28,
     "metadata": {},
     "output_type": "execute_result"
    }
   ],
   "source": [
    "scaler = MinMaxScaler()\n",
    "x = scaler.fit_transform(df[['inflation_annual_cpi']])\n",
    "x"
   ]
  },
  {
   "cell_type": "code",
   "execution_count": 29,
   "id": "e825c61c",
   "metadata": {
    "execution": {
     "iopub.execute_input": "2023-02-19T14:37:30.780465Z",
     "iopub.status.busy": "2023-02-19T14:37:30.779904Z",
     "iopub.status.idle": "2023-02-19T14:37:30.785317Z",
     "shell.execute_reply": "2023-02-19T14:37:30.784706Z"
    },
    "papermill": {
     "duration": 0.022838,
     "end_time": "2023-02-19T14:37:30.786893",
     "exception": false,
     "start_time": "2023-02-19T14:37:30.764055",
     "status": "completed"
    },
    "tags": []
   },
   "outputs": [
    {
     "data": {
      "text/plain": [
       "0.0"
      ]
     },
     "execution_count": 29,
     "metadata": {},
     "output_type": "execute_result"
    }
   ],
   "source": [
    "x.min()"
   ]
  },
  {
   "cell_type": "code",
   "execution_count": 30,
   "id": "69768a8d",
   "metadata": {
    "execution": {
     "iopub.execute_input": "2023-02-19T14:37:30.817121Z",
     "iopub.status.busy": "2023-02-19T14:37:30.816647Z",
     "iopub.status.idle": "2023-02-19T14:37:30.821634Z",
     "shell.execute_reply": "2023-02-19T14:37:30.821066Z"
    },
    "papermill": {
     "duration": 0.021894,
     "end_time": "2023-02-19T14:37:30.823165",
     "exception": false,
     "start_time": "2023-02-19T14:37:30.801271",
     "status": "completed"
    },
    "tags": []
   },
   "outputs": [
    {
     "data": {
      "text/plain": [
       "1.0"
      ]
     },
     "execution_count": 30,
     "metadata": {},
     "output_type": "execute_result"
    }
   ],
   "source": [
    "x.max()"
   ]
  },
  {
   "cell_type": "code",
   "execution_count": 31,
   "id": "9fb4c452",
   "metadata": {
    "execution": {
     "iopub.execute_input": "2023-02-19T14:37:30.853913Z",
     "iopub.status.busy": "2023-02-19T14:37:30.853442Z",
     "iopub.status.idle": "2023-02-19T14:37:30.857481Z",
     "shell.execute_reply": "2023-02-19T14:37:30.856995Z"
    },
    "papermill": {
     "duration": 0.021418,
     "end_time": "2023-02-19T14:37:30.859021",
     "exception": false,
     "start_time": "2023-02-19T14:37:30.837603",
     "status": "completed"
    },
    "tags": []
   },
   "outputs": [],
   "source": [
    "df['infanncpi'] = x"
   ]
  },
  {
   "cell_type": "code",
   "execution_count": 32,
   "id": "df668f37",
   "metadata": {
    "execution": {
     "iopub.execute_input": "2023-02-19T14:37:30.889695Z",
     "iopub.status.busy": "2023-02-19T14:37:30.889229Z",
     "iopub.status.idle": "2023-02-19T14:37:30.907145Z",
     "shell.execute_reply": "2023-02-19T14:37:30.906310Z"
    },
    "papermill": {
     "duration": 0.035451,
     "end_time": "2023-02-19T14:37:30.908814",
     "exception": false,
     "start_time": "2023-02-19T14:37:30.873363",
     "status": "completed"
    },
    "tags": []
   },
   "outputs": [
    {
     "data": {
      "text/html": [
       "<div>\n",
       "<style scoped>\n",
       "    .dataframe tbody tr th:only-of-type {\n",
       "        vertical-align: middle;\n",
       "    }\n",
       "\n",
       "    .dataframe tbody tr th {\n",
       "        vertical-align: top;\n",
       "    }\n",
       "\n",
       "    .dataframe thead th {\n",
       "        text-align: right;\n",
       "    }\n",
       "</style>\n",
       "<table border=\"1\" class=\"dataframe\">\n",
       "  <thead>\n",
       "    <tr style=\"text-align: right;\">\n",
       "      <th></th>\n",
       "      <th>cc3</th>\n",
       "      <th>country</th>\n",
       "      <th>systemic_crisis</th>\n",
       "      <th>exch_usd</th>\n",
       "      <th>domestic_debt_in_default</th>\n",
       "      <th>sovereign_external_debt_default</th>\n",
       "      <th>gdp_weighted_default</th>\n",
       "      <th>inflation_annual_cpi</th>\n",
       "      <th>independence</th>\n",
       "      <th>currency_crises</th>\n",
       "      <th>inflation_crises</th>\n",
       "      <th>banking_crisis</th>\n",
       "      <th>infanncpi</th>\n",
       "    </tr>\n",
       "  </thead>\n",
       "  <tbody>\n",
       "    <tr>\n",
       "      <th>0</th>\n",
       "      <td>DZA</td>\n",
       "      <td>0</td>\n",
       "      <td>1</td>\n",
       "      <td>0.052264</td>\n",
       "      <td>0</td>\n",
       "      <td>0</td>\n",
       "      <td>0.0</td>\n",
       "      <td>3.441456</td>\n",
       "      <td>0</td>\n",
       "      <td>0</td>\n",
       "      <td>0</td>\n",
       "      <td>crisis</td>\n",
       "      <td>1.452660e-06</td>\n",
       "    </tr>\n",
       "    <tr>\n",
       "      <th>1</th>\n",
       "      <td>DZA</td>\n",
       "      <td>0</td>\n",
       "      <td>0</td>\n",
       "      <td>0.052798</td>\n",
       "      <td>0</td>\n",
       "      <td>0</td>\n",
       "      <td>0.0</td>\n",
       "      <td>14.149140</td>\n",
       "      <td>0</td>\n",
       "      <td>0</td>\n",
       "      <td>0</td>\n",
       "      <td>no_crisis</td>\n",
       "      <td>1.939600e-06</td>\n",
       "    </tr>\n",
       "    <tr>\n",
       "      <th>2</th>\n",
       "      <td>DZA</td>\n",
       "      <td>0</td>\n",
       "      <td>0</td>\n",
       "      <td>0.052274</td>\n",
       "      <td>0</td>\n",
       "      <td>0</td>\n",
       "      <td>0.0</td>\n",
       "      <td>-3.718593</td>\n",
       "      <td>0</td>\n",
       "      <td>0</td>\n",
       "      <td>0</td>\n",
       "      <td>no_crisis</td>\n",
       "      <td>1.127051e-06</td>\n",
       "    </tr>\n",
       "    <tr>\n",
       "      <th>3</th>\n",
       "      <td>DZA</td>\n",
       "      <td>0</td>\n",
       "      <td>0</td>\n",
       "      <td>0.051680</td>\n",
       "      <td>0</td>\n",
       "      <td>0</td>\n",
       "      <td>0.0</td>\n",
       "      <td>11.203897</td>\n",
       "      <td>0</td>\n",
       "      <td>0</td>\n",
       "      <td>0</td>\n",
       "      <td>no_crisis</td>\n",
       "      <td>1.805663e-06</td>\n",
       "    </tr>\n",
       "    <tr>\n",
       "      <th>4</th>\n",
       "      <td>DZA</td>\n",
       "      <td>0</td>\n",
       "      <td>0</td>\n",
       "      <td>0.051308</td>\n",
       "      <td>0</td>\n",
       "      <td>0</td>\n",
       "      <td>0.0</td>\n",
       "      <td>-3.848561</td>\n",
       "      <td>0</td>\n",
       "      <td>0</td>\n",
       "      <td>0</td>\n",
       "      <td>no_crisis</td>\n",
       "      <td>1.121141e-06</td>\n",
       "    </tr>\n",
       "    <tr>\n",
       "      <th>...</th>\n",
       "      <td>...</td>\n",
       "      <td>...</td>\n",
       "      <td>...</td>\n",
       "      <td>...</td>\n",
       "      <td>...</td>\n",
       "      <td>...</td>\n",
       "      <td>...</td>\n",
       "      <td>...</td>\n",
       "      <td>...</td>\n",
       "      <td>...</td>\n",
       "      <td>...</td>\n",
       "      <td>...</td>\n",
       "      <td>...</td>\n",
       "    </tr>\n",
       "    <tr>\n",
       "      <th>1054</th>\n",
       "      <td>ZWE</td>\n",
       "      <td>12</td>\n",
       "      <td>1</td>\n",
       "      <td>354.800000</td>\n",
       "      <td>1</td>\n",
       "      <td>1</td>\n",
       "      <td>0.0</td>\n",
       "      <td>-7.670000</td>\n",
       "      <td>1</td>\n",
       "      <td>1</td>\n",
       "      <td>0</td>\n",
       "      <td>crisis</td>\n",
       "      <td>9.473578e-07</td>\n",
       "    </tr>\n",
       "    <tr>\n",
       "      <th>1055</th>\n",
       "      <td>ZWE</td>\n",
       "      <td>12</td>\n",
       "      <td>0</td>\n",
       "      <td>378.200000</td>\n",
       "      <td>1</td>\n",
       "      <td>1</td>\n",
       "      <td>0.0</td>\n",
       "      <td>3.217000</td>\n",
       "      <td>1</td>\n",
       "      <td>0</td>\n",
       "      <td>0</td>\n",
       "      <td>no_crisis</td>\n",
       "      <td>1.442453e-06</td>\n",
       "    </tr>\n",
       "    <tr>\n",
       "      <th>1056</th>\n",
       "      <td>ZWE</td>\n",
       "      <td>12</td>\n",
       "      <td>0</td>\n",
       "      <td>361.900000</td>\n",
       "      <td>1</td>\n",
       "      <td>1</td>\n",
       "      <td>0.0</td>\n",
       "      <td>4.920000</td>\n",
       "      <td>1</td>\n",
       "      <td>0</td>\n",
       "      <td>0</td>\n",
       "      <td>no_crisis</td>\n",
       "      <td>1.519898e-06</td>\n",
       "    </tr>\n",
       "    <tr>\n",
       "      <th>1057</th>\n",
       "      <td>ZWE</td>\n",
       "      <td>12</td>\n",
       "      <td>0</td>\n",
       "      <td>361.900000</td>\n",
       "      <td>1</td>\n",
       "      <td>1</td>\n",
       "      <td>0.0</td>\n",
       "      <td>3.720000</td>\n",
       "      <td>1</td>\n",
       "      <td>0</td>\n",
       "      <td>0</td>\n",
       "      <td>no_crisis</td>\n",
       "      <td>1.465327e-06</td>\n",
       "    </tr>\n",
       "    <tr>\n",
       "      <th>1058</th>\n",
       "      <td>ZWE</td>\n",
       "      <td>12</td>\n",
       "      <td>0</td>\n",
       "      <td>361.900000</td>\n",
       "      <td>1</td>\n",
       "      <td>1</td>\n",
       "      <td>0.0</td>\n",
       "      <td>1.632000</td>\n",
       "      <td>1</td>\n",
       "      <td>0</td>\n",
       "      <td>0</td>\n",
       "      <td>no_crisis</td>\n",
       "      <td>1.370374e-06</td>\n",
       "    </tr>\n",
       "  </tbody>\n",
       "</table>\n",
       "<p>1059 rows × 13 columns</p>\n",
       "</div>"
      ],
      "text/plain": [
       "      cc3  country  systemic_crisis    exch_usd  domestic_debt_in_default  \\\n",
       "0     DZA        0                1    0.052264                         0   \n",
       "1     DZA        0                0    0.052798                         0   \n",
       "2     DZA        0                0    0.052274                         0   \n",
       "3     DZA        0                0    0.051680                         0   \n",
       "4     DZA        0                0    0.051308                         0   \n",
       "...   ...      ...              ...         ...                       ...   \n",
       "1054  ZWE       12                1  354.800000                         1   \n",
       "1055  ZWE       12                0  378.200000                         1   \n",
       "1056  ZWE       12                0  361.900000                         1   \n",
       "1057  ZWE       12                0  361.900000                         1   \n",
       "1058  ZWE       12                0  361.900000                         1   \n",
       "\n",
       "      sovereign_external_debt_default  gdp_weighted_default  \\\n",
       "0                                   0                   0.0   \n",
       "1                                   0                   0.0   \n",
       "2                                   0                   0.0   \n",
       "3                                   0                   0.0   \n",
       "4                                   0                   0.0   \n",
       "...                               ...                   ...   \n",
       "1054                                1                   0.0   \n",
       "1055                                1                   0.0   \n",
       "1056                                1                   0.0   \n",
       "1057                                1                   0.0   \n",
       "1058                                1                   0.0   \n",
       "\n",
       "      inflation_annual_cpi  independence  currency_crises  inflation_crises  \\\n",
       "0                 3.441456             0                0                 0   \n",
       "1                14.149140             0                0                 0   \n",
       "2                -3.718593             0                0                 0   \n",
       "3                11.203897             0                0                 0   \n",
       "4                -3.848561             0                0                 0   \n",
       "...                    ...           ...              ...               ...   \n",
       "1054             -7.670000             1                1                 0   \n",
       "1055              3.217000             1                0                 0   \n",
       "1056              4.920000             1                0                 0   \n",
       "1057              3.720000             1                0                 0   \n",
       "1058              1.632000             1                0                 0   \n",
       "\n",
       "     banking_crisis     infanncpi  \n",
       "0            crisis  1.452660e-06  \n",
       "1         no_crisis  1.939600e-06  \n",
       "2         no_crisis  1.127051e-06  \n",
       "3         no_crisis  1.805663e-06  \n",
       "4         no_crisis  1.121141e-06  \n",
       "...             ...           ...  \n",
       "1054         crisis  9.473578e-07  \n",
       "1055      no_crisis  1.442453e-06  \n",
       "1056      no_crisis  1.519898e-06  \n",
       "1057      no_crisis  1.465327e-06  \n",
       "1058      no_crisis  1.370374e-06  \n",
       "\n",
       "[1059 rows x 13 columns]"
      ]
     },
     "execution_count": 32,
     "metadata": {},
     "output_type": "execute_result"
    }
   ],
   "source": [
    "df"
   ]
  },
  {
   "cell_type": "code",
   "execution_count": 33,
   "id": "362a3b49",
   "metadata": {
    "execution": {
     "iopub.execute_input": "2023-02-19T14:37:30.940968Z",
     "iopub.status.busy": "2023-02-19T14:37:30.940609Z",
     "iopub.status.idle": "2023-02-19T14:37:30.946087Z",
     "shell.execute_reply": "2023-02-19T14:37:30.945326Z"
    },
    "papermill": {
     "duration": 0.024395,
     "end_time": "2023-02-19T14:37:30.948172",
     "exception": false,
     "start_time": "2023-02-19T14:37:30.923777",
     "status": "completed"
    },
    "tags": []
   },
   "outputs": [],
   "source": [
    "df.drop(columns=['inflation_annual_cpi'],inplace=True)"
   ]
  },
  {
   "cell_type": "code",
   "execution_count": 34,
   "id": "909becb8",
   "metadata": {
    "execution": {
     "iopub.execute_input": "2023-02-19T14:37:30.980427Z",
     "iopub.status.busy": "2023-02-19T14:37:30.979993Z",
     "iopub.status.idle": "2023-02-19T14:37:30.984885Z",
     "shell.execute_reply": "2023-02-19T14:37:30.984349Z"
    },
    "papermill": {
     "duration": 0.022721,
     "end_time": "2023-02-19T14:37:30.986431",
     "exception": false,
     "start_time": "2023-02-19T14:37:30.963710",
     "status": "completed"
    },
    "tags": []
   },
   "outputs": [],
   "source": [
    "x = df.drop(columns = ['systemic_crisis'])\n",
    "y=df['systemic_crisis']"
   ]
  },
  {
   "cell_type": "code",
   "execution_count": 35,
   "id": "d6c68307",
   "metadata": {
    "execution": {
     "iopub.execute_input": "2023-02-19T14:37:31.019924Z",
     "iopub.status.busy": "2023-02-19T14:37:31.019096Z",
     "iopub.status.idle": "2023-02-19T14:37:31.414070Z",
     "shell.execute_reply": "2023-02-19T14:37:31.413102Z"
    },
    "papermill": {
     "duration": 0.414026,
     "end_time": "2023-02-19T14:37:31.416244",
     "exception": false,
     "start_time": "2023-02-19T14:37:31.002218",
     "status": "completed"
    },
    "tags": []
   },
   "outputs": [],
   "source": [
    "from imblearn.over_sampling import SMOTE"
   ]
  },
  {
   "cell_type": "code",
   "execution_count": 36,
   "id": "1be00870",
   "metadata": {
    "execution": {
     "iopub.execute_input": "2023-02-19T14:37:31.449542Z",
     "iopub.status.busy": "2023-02-19T14:37:31.449227Z",
     "iopub.status.idle": "2023-02-19T14:37:31.455357Z",
     "shell.execute_reply": "2023-02-19T14:37:31.454170Z"
    },
    "papermill": {
     "duration": 0.024301,
     "end_time": "2023-02-19T14:37:31.457198",
     "exception": false,
     "start_time": "2023-02-19T14:37:31.432897",
     "status": "completed"
    },
    "tags": []
   },
   "outputs": [],
   "source": [
    "x.drop(columns = ['cc3'],inplace=True)"
   ]
  },
  {
   "cell_type": "code",
   "execution_count": 37,
   "id": "0967e1e1",
   "metadata": {
    "execution": {
     "iopub.execute_input": "2023-02-19T14:37:31.489204Z",
     "iopub.status.busy": "2023-02-19T14:37:31.488901Z",
     "iopub.status.idle": "2023-02-19T14:37:31.495127Z",
     "shell.execute_reply": "2023-02-19T14:37:31.494240Z"
    },
    "papermill": {
     "duration": 0.024512,
     "end_time": "2023-02-19T14:37:31.496822",
     "exception": false,
     "start_time": "2023-02-19T14:37:31.472310",
     "status": "completed"
    },
    "tags": []
   },
   "outputs": [],
   "source": [
    "x.replace({'crisis':1,'no_crisis':2},inplace=True)"
   ]
  },
  {
   "cell_type": "code",
   "execution_count": 38,
   "id": "ac74ef92",
   "metadata": {
    "execution": {
     "iopub.execute_input": "2023-02-19T14:37:31.528090Z",
     "iopub.status.busy": "2023-02-19T14:37:31.527427Z",
     "iopub.status.idle": "2023-02-19T14:37:31.538659Z",
     "shell.execute_reply": "2023-02-19T14:37:31.537947Z"
    },
    "papermill": {
     "duration": 0.029024,
     "end_time": "2023-02-19T14:37:31.540935",
     "exception": false,
     "start_time": "2023-02-19T14:37:31.511911",
     "status": "completed"
    },
    "tags": []
   },
   "outputs": [],
   "source": [
    "smote = SMOTE()\n",
    "x_smote,y_smote = smote.fit_resample(x,y)"
   ]
  },
  {
   "cell_type": "code",
   "execution_count": 39,
   "id": "299be70a",
   "metadata": {
    "execution": {
     "iopub.execute_input": "2023-02-19T14:37:31.574713Z",
     "iopub.status.busy": "2023-02-19T14:37:31.573996Z",
     "iopub.status.idle": "2023-02-19T14:37:31.578334Z",
     "shell.execute_reply": "2023-02-19T14:37:31.577597Z"
    },
    "papermill": {
     "duration": 0.02339,
     "end_time": "2023-02-19T14:37:31.580594",
     "exception": false,
     "start_time": "2023-02-19T14:37:31.557204",
     "status": "completed"
    },
    "tags": []
   },
   "outputs": [],
   "source": [
    "from collections import Counter"
   ]
  },
  {
   "cell_type": "code",
   "execution_count": 40,
   "id": "9519d031",
   "metadata": {
    "execution": {
     "iopub.execute_input": "2023-02-19T14:37:31.614477Z",
     "iopub.status.busy": "2023-02-19T14:37:31.614151Z",
     "iopub.status.idle": "2023-02-19T14:37:31.620833Z",
     "shell.execute_reply": "2023-02-19T14:37:31.619784Z"
    },
    "papermill": {
     "duration": 0.025941,
     "end_time": "2023-02-19T14:37:31.622764",
     "exception": false,
     "start_time": "2023-02-19T14:37:31.596823",
     "status": "completed"
    },
    "tags": []
   },
   "outputs": [
    {
     "data": {
      "text/plain": [
       "Counter({1: 977, 0: 977})"
      ]
     },
     "execution_count": 40,
     "metadata": {},
     "output_type": "execute_result"
    }
   ],
   "source": [
    "Counter(y_smote)"
   ]
  },
  {
   "cell_type": "code",
   "execution_count": 41,
   "id": "21139a8e",
   "metadata": {
    "execution": {
     "iopub.execute_input": "2023-02-19T14:37:31.657445Z",
     "iopub.status.busy": "2023-02-19T14:37:31.656519Z",
     "iopub.status.idle": "2023-02-19T14:37:31.664993Z",
     "shell.execute_reply": "2023-02-19T14:37:31.663969Z"
    },
    "papermill": {
     "duration": 0.027868,
     "end_time": "2023-02-19T14:37:31.667001",
     "exception": false,
     "start_time": "2023-02-19T14:37:31.639133",
     "status": "completed"
    },
    "tags": []
   },
   "outputs": [
    {
     "data": {
      "text/plain": [
       "Counter({'country': 1,\n",
       "         'exch_usd': 1,\n",
       "         'domestic_debt_in_default': 1,\n",
       "         'sovereign_external_debt_default': 1,\n",
       "         'gdp_weighted_default': 1,\n",
       "         'independence': 1,\n",
       "         'currency_crises': 1,\n",
       "         'inflation_crises': 1,\n",
       "         'banking_crisis': 1,\n",
       "         'infanncpi': 1})"
      ]
     },
     "execution_count": 41,
     "metadata": {},
     "output_type": "execute_result"
    }
   ],
   "source": [
    "Counter(x_smote)"
   ]
  },
  {
   "cell_type": "code",
   "execution_count": 42,
   "id": "3eebd26b",
   "metadata": {
    "execution": {
     "iopub.execute_input": "2023-02-19T14:37:31.698843Z",
     "iopub.status.busy": "2023-02-19T14:37:31.698299Z",
     "iopub.status.idle": "2023-02-19T14:37:31.703008Z",
     "shell.execute_reply": "2023-02-19T14:37:31.702141Z"
    },
    "papermill": {
     "duration": 0.022406,
     "end_time": "2023-02-19T14:37:31.704668",
     "exception": false,
     "start_time": "2023-02-19T14:37:31.682262",
     "status": "completed"
    },
    "tags": []
   },
   "outputs": [
    {
     "data": {
      "text/plain": [
       "(1954, 10)"
      ]
     },
     "execution_count": 42,
     "metadata": {},
     "output_type": "execute_result"
    }
   ],
   "source": [
    "x_smote.shape"
   ]
  },
  {
   "cell_type": "code",
   "execution_count": 43,
   "id": "5ba8d61f",
   "metadata": {
    "execution": {
     "iopub.execute_input": "2023-02-19T14:37:31.737645Z",
     "iopub.status.busy": "2023-02-19T14:37:31.737137Z",
     "iopub.status.idle": "2023-02-19T14:37:31.741833Z",
     "shell.execute_reply": "2023-02-19T14:37:31.740863Z"
    },
    "papermill": {
     "duration": 0.02326,
     "end_time": "2023-02-19T14:37:31.743447",
     "exception": false,
     "start_time": "2023-02-19T14:37:31.720187",
     "status": "completed"
    },
    "tags": []
   },
   "outputs": [
    {
     "data": {
      "text/plain": [
       "(1954,)"
      ]
     },
     "execution_count": 43,
     "metadata": {},
     "output_type": "execute_result"
    }
   ],
   "source": [
    "y_smote.shape"
   ]
  },
  {
   "cell_type": "code",
   "execution_count": 44,
   "id": "6961cdbc",
   "metadata": {
    "execution": {
     "iopub.execute_input": "2023-02-19T14:37:31.776025Z",
     "iopub.status.busy": "2023-02-19T14:37:31.775672Z",
     "iopub.status.idle": "2023-02-19T14:37:31.780509Z",
     "shell.execute_reply": "2023-02-19T14:37:31.779067Z"
    },
    "papermill": {
     "duration": 0.023087,
     "end_time": "2023-02-19T14:37:31.782166",
     "exception": false,
     "start_time": "2023-02-19T14:37:31.759079",
     "status": "completed"
    },
    "tags": []
   },
   "outputs": [],
   "source": [
    "from sklearn.model_selection import train_test_split"
   ]
  },
  {
   "cell_type": "code",
   "execution_count": 45,
   "id": "9a5e1bed",
   "metadata": {
    "execution": {
     "iopub.execute_input": "2023-02-19T14:37:31.814314Z",
     "iopub.status.busy": "2023-02-19T14:37:31.814011Z",
     "iopub.status.idle": "2023-02-19T14:37:31.820612Z",
     "shell.execute_reply": "2023-02-19T14:37:31.819946Z"
    },
    "papermill": {
     "duration": 0.024546,
     "end_time": "2023-02-19T14:37:31.822295",
     "exception": false,
     "start_time": "2023-02-19T14:37:31.797749",
     "status": "completed"
    },
    "tags": []
   },
   "outputs": [],
   "source": [
    "x_train,x_test,y_train,y_test = train_test_split(x_smote,y_smote,test_size=0.2,random_state=123)"
   ]
  },
  {
   "cell_type": "code",
   "execution_count": 46,
   "id": "e3db9e1c",
   "metadata": {
    "execution": {
     "iopub.execute_input": "2023-02-19T14:37:31.854901Z",
     "iopub.status.busy": "2023-02-19T14:37:31.854367Z",
     "iopub.status.idle": "2023-02-19T14:37:31.860322Z",
     "shell.execute_reply": "2023-02-19T14:37:31.859778Z"
    },
    "papermill": {
     "duration": 0.024309,
     "end_time": "2023-02-19T14:37:31.862232",
     "exception": false,
     "start_time": "2023-02-19T14:37:31.837923",
     "status": "completed"
    },
    "tags": []
   },
   "outputs": [],
   "source": [
    "from sklearn.neighbors import KNeighborsClassifier\n",
    "from sklearn.naive_bayes import GaussianNB\n",
    "from sklearn.svm import SVC"
   ]
  },
  {
   "cell_type": "markdown",
   "id": "b990999b",
   "metadata": {
    "papermill": {
     "duration": 0.014865,
     "end_time": "2023-02-19T14:37:31.892499",
     "exception": false,
     "start_time": "2023-02-19T14:37:31.877634",
     "status": "completed"
    },
    "tags": []
   },
   "source": [
    "**KNN**"
   ]
  },
  {
   "cell_type": "code",
   "execution_count": 47,
   "id": "2e1f8360",
   "metadata": {
    "execution": {
     "iopub.execute_input": "2023-02-19T14:37:31.926850Z",
     "iopub.status.busy": "2023-02-19T14:37:31.926173Z",
     "iopub.status.idle": "2023-02-19T14:37:31.937284Z",
     "shell.execute_reply": "2023-02-19T14:37:31.936485Z"
    },
    "papermill": {
     "duration": 0.031229,
     "end_time": "2023-02-19T14:37:31.939056",
     "exception": false,
     "start_time": "2023-02-19T14:37:31.907827",
     "status": "completed"
    },
    "tags": []
   },
   "outputs": [
    {
     "data": {
      "text/plain": [
       "KNeighborsClassifier()"
      ]
     },
     "execution_count": 47,
     "metadata": {},
     "output_type": "execute_result"
    }
   ],
   "source": [
    "knn = KNeighborsClassifier()\n",
    "knn.fit(x_train,y_train)"
   ]
  },
  {
   "cell_type": "code",
   "execution_count": 48,
   "id": "a1c8cfde",
   "metadata": {
    "execution": {
     "iopub.execute_input": "2023-02-19T14:37:31.972402Z",
     "iopub.status.busy": "2023-02-19T14:37:31.971948Z",
     "iopub.status.idle": "2023-02-19T14:37:31.988232Z",
     "shell.execute_reply": "2023-02-19T14:37:31.987099Z"
    },
    "papermill": {
     "duration": 0.03535,
     "end_time": "2023-02-19T14:37:31.990235",
     "exception": false,
     "start_time": "2023-02-19T14:37:31.954885",
     "status": "completed"
    },
    "tags": []
   },
   "outputs": [],
   "source": [
    "ypred = knn.predict(x_test)"
   ]
  },
  {
   "cell_type": "code",
   "execution_count": 49,
   "id": "18f6314c",
   "metadata": {
    "execution": {
     "iopub.execute_input": "2023-02-19T14:37:32.023941Z",
     "iopub.status.busy": "2023-02-19T14:37:32.023609Z",
     "iopub.status.idle": "2023-02-19T14:37:32.027918Z",
     "shell.execute_reply": "2023-02-19T14:37:32.026780Z"
    },
    "papermill": {
     "duration": 0.023499,
     "end_time": "2023-02-19T14:37:32.029710",
     "exception": false,
     "start_time": "2023-02-19T14:37:32.006211",
     "status": "completed"
    },
    "tags": []
   },
   "outputs": [],
   "source": [
    "from sklearn.metrics import classification_report"
   ]
  },
  {
   "cell_type": "code",
   "execution_count": 50,
   "id": "7a96cbc2",
   "metadata": {
    "execution": {
     "iopub.execute_input": "2023-02-19T14:37:32.063356Z",
     "iopub.status.busy": "2023-02-19T14:37:32.062212Z",
     "iopub.status.idle": "2023-02-19T14:37:32.072355Z",
     "shell.execute_reply": "2023-02-19T14:37:32.070900Z"
    },
    "papermill": {
     "duration": 0.029323,
     "end_time": "2023-02-19T14:37:32.074680",
     "exception": false,
     "start_time": "2023-02-19T14:37:32.045357",
     "status": "completed"
    },
    "tags": []
   },
   "outputs": [
    {
     "name": "stdout",
     "output_type": "stream",
     "text": [
      "              precision    recall  f1-score   support\n",
      "\n",
      "           0       0.93      0.91      0.92       203\n",
      "           1       0.91      0.93      0.92       188\n",
      "\n",
      "    accuracy                           0.92       391\n",
      "   macro avg       0.92      0.92      0.92       391\n",
      "weighted avg       0.92      0.92      0.92       391\n",
      "\n"
     ]
    }
   ],
   "source": [
    "cl = classification_report(y_test,ypred)\n",
    "print(cl)"
   ]
  },
  {
   "cell_type": "markdown",
   "id": "9d196938",
   "metadata": {
    "papermill": {
     "duration": 0.015644,
     "end_time": "2023-02-19T14:37:32.106120",
     "exception": false,
     "start_time": "2023-02-19T14:37:32.090476",
     "status": "completed"
    },
    "tags": []
   },
   "source": [
    "**Naive Bayes**"
   ]
  },
  {
   "cell_type": "code",
   "execution_count": 51,
   "id": "9caef196",
   "metadata": {
    "execution": {
     "iopub.execute_input": "2023-02-19T14:37:32.138947Z",
     "iopub.status.busy": "2023-02-19T14:37:32.138593Z",
     "iopub.status.idle": "2023-02-19T14:37:32.147879Z",
     "shell.execute_reply": "2023-02-19T14:37:32.146784Z"
    },
    "papermill": {
     "duration": 0.027805,
     "end_time": "2023-02-19T14:37:32.149900",
     "exception": false,
     "start_time": "2023-02-19T14:37:32.122095",
     "status": "completed"
    },
    "tags": []
   },
   "outputs": [
    {
     "data": {
      "text/plain": [
       "GaussianNB()"
      ]
     },
     "execution_count": 51,
     "metadata": {},
     "output_type": "execute_result"
    }
   ],
   "source": [
    "nb = GaussianNB()\n",
    "nb.fit(x_train,y_train)"
   ]
  },
  {
   "cell_type": "code",
   "execution_count": 52,
   "id": "a3caedfc",
   "metadata": {
    "execution": {
     "iopub.execute_input": "2023-02-19T14:37:32.182498Z",
     "iopub.status.busy": "2023-02-19T14:37:32.181965Z",
     "iopub.status.idle": "2023-02-19T14:37:32.186779Z",
     "shell.execute_reply": "2023-02-19T14:37:32.186219Z"
    },
    "papermill": {
     "duration": 0.022735,
     "end_time": "2023-02-19T14:37:32.188181",
     "exception": false,
     "start_time": "2023-02-19T14:37:32.165446",
     "status": "completed"
    },
    "tags": []
   },
   "outputs": [],
   "source": [
    "ypred = nb.predict(x_test)"
   ]
  },
  {
   "cell_type": "code",
   "execution_count": 53,
   "id": "ae760521",
   "metadata": {
    "execution": {
     "iopub.execute_input": "2023-02-19T14:37:32.219965Z",
     "iopub.status.busy": "2023-02-19T14:37:32.219636Z",
     "iopub.status.idle": "2023-02-19T14:37:32.230357Z",
     "shell.execute_reply": "2023-02-19T14:37:32.229070Z"
    },
    "papermill": {
     "duration": 0.028678,
     "end_time": "2023-02-19T14:37:32.232166",
     "exception": false,
     "start_time": "2023-02-19T14:37:32.203488",
     "status": "completed"
    },
    "tags": []
   },
   "outputs": [
    {
     "name": "stdout",
     "output_type": "stream",
     "text": [
      "              precision    recall  f1-score   support\n",
      "\n",
      "           0       0.95      0.99      0.97       203\n",
      "           1       0.98      0.95      0.96       188\n",
      "\n",
      "    accuracy                           0.97       391\n",
      "   macro avg       0.97      0.97      0.97       391\n",
      "weighted avg       0.97      0.97      0.97       391\n",
      "\n"
     ]
    }
   ],
   "source": [
    "cl = classification_report(y_test,ypred)\n",
    "print(cl)"
   ]
  },
  {
   "cell_type": "markdown",
   "id": "0a5109f6",
   "metadata": {
    "papermill": {
     "duration": 0.015485,
     "end_time": "2023-02-19T14:37:32.263501",
     "exception": false,
     "start_time": "2023-02-19T14:37:32.248016",
     "status": "completed"
    },
    "tags": []
   },
   "source": [
    "**SVM = Support Vector Machine**"
   ]
  },
  {
   "cell_type": "code",
   "execution_count": 54,
   "id": "a418a3df",
   "metadata": {
    "execution": {
     "iopub.execute_input": "2023-02-19T14:37:32.297787Z",
     "iopub.status.busy": "2023-02-19T14:37:32.296615Z",
     "iopub.status.idle": "2023-02-19T14:37:32.399823Z",
     "shell.execute_reply": "2023-02-19T14:37:32.397980Z"
    },
    "papermill": {
     "duration": 0.122271,
     "end_time": "2023-02-19T14:37:32.402123",
     "exception": false,
     "start_time": "2023-02-19T14:37:32.279852",
     "status": "completed"
    },
    "tags": []
   },
   "outputs": [
    {
     "data": {
      "text/plain": [
       "SVC()"
      ]
     },
     "execution_count": 54,
     "metadata": {},
     "output_type": "execute_result"
    }
   ],
   "source": [
    "svc = SVC()\n",
    "svc.fit(x_train,y_train)"
   ]
  },
  {
   "cell_type": "code",
   "execution_count": 55,
   "id": "6d234ea8",
   "metadata": {
    "execution": {
     "iopub.execute_input": "2023-02-19T14:37:32.437083Z",
     "iopub.status.busy": "2023-02-19T14:37:32.436711Z",
     "iopub.status.idle": "2023-02-19T14:37:32.467196Z",
     "shell.execute_reply": "2023-02-19T14:37:32.465960Z"
    },
    "papermill": {
     "duration": 0.050497,
     "end_time": "2023-02-19T14:37:32.469335",
     "exception": false,
     "start_time": "2023-02-19T14:37:32.418838",
     "status": "completed"
    },
    "tags": []
   },
   "outputs": [],
   "source": [
    "ypred = svc.predict(x_test)"
   ]
  },
  {
   "cell_type": "code",
   "execution_count": 56,
   "id": "9a5a16e4",
   "metadata": {
    "execution": {
     "iopub.execute_input": "2023-02-19T14:37:32.502335Z",
     "iopub.status.busy": "2023-02-19T14:37:32.502034Z",
     "iopub.status.idle": "2023-02-19T14:37:32.514006Z",
     "shell.execute_reply": "2023-02-19T14:37:32.512710Z"
    },
    "papermill": {
     "duration": 0.030989,
     "end_time": "2023-02-19T14:37:32.516119",
     "exception": false,
     "start_time": "2023-02-19T14:37:32.485130",
     "status": "completed"
    },
    "tags": []
   },
   "outputs": [
    {
     "name": "stdout",
     "output_type": "stream",
     "text": [
      "              precision    recall  f1-score   support\n",
      "\n",
      "           0       0.64      0.86      0.73       203\n",
      "           1       0.75      0.47      0.58       188\n",
      "\n",
      "    accuracy                           0.67       391\n",
      "   macro avg       0.69      0.66      0.65       391\n",
      "weighted avg       0.69      0.67      0.66       391\n",
      "\n"
     ]
    }
   ],
   "source": [
    "cl = classification_report(y_test,ypred)\n",
    "print(cl)"
   ]
  },
  {
   "cell_type": "markdown",
   "id": "4bb04929",
   "metadata": {
    "papermill": {
     "duration": 0.015387,
     "end_time": "2023-02-19T14:37:32.547312",
     "exception": false,
     "start_time": "2023-02-19T14:37:32.531925",
     "status": "completed"
    },
    "tags": []
   },
   "source": [
    "**Linear SVM**"
   ]
  },
  {
   "cell_type": "code",
   "execution_count": 57,
   "id": "edd8da33",
   "metadata": {
    "execution": {
     "iopub.execute_input": "2023-02-19T14:37:32.580643Z",
     "iopub.status.busy": "2023-02-19T14:37:32.580335Z",
     "iopub.status.idle": "2023-02-19T14:37:53.259936Z",
     "shell.execute_reply": "2023-02-19T14:37:53.258820Z"
    },
    "papermill": {
     "duration": 20.699296,
     "end_time": "2023-02-19T14:37:53.262468",
     "exception": false,
     "start_time": "2023-02-19T14:37:32.563172",
     "status": "completed"
    },
    "tags": []
   },
   "outputs": [
    {
     "data": {
      "text/plain": [
       "SVC(kernel='linear')"
      ]
     },
     "execution_count": 57,
     "metadata": {},
     "output_type": "execute_result"
    }
   ],
   "source": [
    "svc = SVC(kernel = 'linear')\n",
    "svc.fit(x_train,y_train)"
   ]
  },
  {
   "cell_type": "code",
   "execution_count": 58,
   "id": "f294feda",
   "metadata": {
    "execution": {
     "iopub.execute_input": "2023-02-19T14:37:53.297753Z",
     "iopub.status.busy": "2023-02-19T14:37:53.297414Z",
     "iopub.status.idle": "2023-02-19T14:37:53.304094Z",
     "shell.execute_reply": "2023-02-19T14:37:53.303406Z"
    },
    "papermill": {
     "duration": 0.026913,
     "end_time": "2023-02-19T14:37:53.306229",
     "exception": false,
     "start_time": "2023-02-19T14:37:53.279316",
     "status": "completed"
    },
    "tags": []
   },
   "outputs": [],
   "source": [
    "ypred = svc.predict(x_test)"
   ]
  },
  {
   "cell_type": "code",
   "execution_count": 59,
   "id": "9dd99c47",
   "metadata": {
    "execution": {
     "iopub.execute_input": "2023-02-19T14:37:53.341845Z",
     "iopub.status.busy": "2023-02-19T14:37:53.341436Z",
     "iopub.status.idle": "2023-02-19T14:37:53.351436Z",
     "shell.execute_reply": "2023-02-19T14:37:53.349813Z"
    },
    "papermill": {
     "duration": 0.030513,
     "end_time": "2023-02-19T14:37:53.353553",
     "exception": false,
     "start_time": "2023-02-19T14:37:53.323040",
     "status": "completed"
    },
    "tags": []
   },
   "outputs": [
    {
     "name": "stdout",
     "output_type": "stream",
     "text": [
      "              precision    recall  f1-score   support\n",
      "\n",
      "           0       0.97      0.98      0.98       203\n",
      "           1       0.98      0.97      0.97       188\n",
      "\n",
      "    accuracy                           0.97       391\n",
      "   macro avg       0.97      0.97      0.97       391\n",
      "weighted avg       0.97      0.97      0.97       391\n",
      "\n"
     ]
    }
   ],
   "source": [
    "cl = classification_report(y_test,ypred)\n",
    "print(cl)"
   ]
  },
  {
   "cell_type": "code",
   "execution_count": null,
   "id": "b6548f5e",
   "metadata": {
    "papermill": {
     "duration": 0.01593,
     "end_time": "2023-02-19T14:37:53.385912",
     "exception": false,
     "start_time": "2023-02-19T14:37:53.369982",
     "status": "completed"
    },
    "tags": []
   },
   "outputs": [],
   "source": []
  }
 ],
 "metadata": {
  "kernelspec": {
   "display_name": "Python 3",
   "language": "python",
   "name": "python3"
  },
  "language_info": {
   "codemirror_mode": {
    "name": "ipython",
    "version": 3
   },
   "file_extension": ".py",
   "mimetype": "text/x-python",
   "name": "python",
   "nbconvert_exporter": "python",
   "pygments_lexer": "ipython3",
   "version": "3.7.12"
  },
  "papermill": {
   "default_parameters": {},
   "duration": 34.534539,
   "end_time": "2023-02-19T14:37:54.224453",
   "environment_variables": {},
   "exception": null,
   "input_path": "__notebook__.ipynb",
   "output_path": "__notebook__.ipynb",
   "parameters": {},
   "start_time": "2023-02-19T14:37:19.689914",
   "version": "2.3.4"
  }
 },
 "nbformat": 4,
 "nbformat_minor": 5
}
